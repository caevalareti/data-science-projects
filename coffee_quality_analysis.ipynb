{
  "nbformat": 4,
  "nbformat_minor": 0,
  "metadata": {
    "colab": {
      "name": "coffee-quality-analysis",
      "provenance": [],
      "collapsed_sections": [],
      "authorship_tag": "ABX9TyMwWNEm1fbHR805RDWwSGFe",
      "include_colab_link": true
    },
    "kernelspec": {
      "name": "python3",
      "display_name": "Python 3"
    }
  },
  "cells": [
    {
      "cell_type": "markdown",
      "metadata": {
        "id": "view-in-github",
        "colab_type": "text"
      },
      "source": [
        "<a href=\"https://colab.research.google.com/github/caevalareti/data-science-projects/blob/master/coffee_quality_analysis.ipynb\" target=\"_parent\"><img src=\"https://colab.research.google.com/assets/colab-badge.svg\" alt=\"Open In Colab\"/></a>"
      ]
    },
    {
      "cell_type": "markdown",
      "metadata": {
        "id": "8nkWCYVZxW4P",
        "colab_type": "text"
      },
      "source": [
        "<p align=\"center\"><img src=\"https://www.coffeeinstitute.org/wp-content/themes/CQI/images/logo.png\" height=\"100px\"></p>\n",
        "\n",
        "---\n",
        "\n",
        "> <p align=\"center\">This analysis is gonna cover 1,340 coffee reviews to try to find out which country has the best arabica coffee in the world. These data was collected from the Coffee Quality Institute, a non-profit organization of trained reviewers.</p>\n",
        "\n",
        "The scraper code and datasets can be found at: https://github.com/jldbc/coffee-quality-database\n",
        "\n",
        "\n",
        "\n",
        "\n",
        "\n"
      ]
    },
    {
      "cell_type": "code",
      "metadata": {
        "id": "LbX1poidWEjs",
        "colab_type": "code",
        "colab": {}
      },
      "source": [
        "# importing essential packages\n",
        "import pandas as pd\n",
        "import matplotlib.pyplot as plt\n",
        "import numpy as np\n",
        "from math import pi\n",
        "\n",
        "%matplotlib inline"
      ],
      "execution_count": 0,
      "outputs": []
    },
    {
      "cell_type": "code",
      "metadata": {
        "id": "-EJlHHLjLrgt",
        "colab_type": "code",
        "outputId": "3a2787d9-e414-4f90-f0cc-3b262e951f68",
        "colab": {
          "base_uri": "https://localhost:8080/",
          "height": 531
        }
      },
      "source": [
        "# importing dataset\n",
        "data = pd.read_csv('https://raw.githubusercontent.com/jldbc/coffee-quality-database/master/data/arabica_data_cleaned.csv')\n",
        "print('Number of rows:', len(data))\n",
        "data.head()"
      ],
      "execution_count": 0,
      "outputs": [
        {
          "output_type": "stream",
          "text": [
            "Number of rows: 1311\n"
          ],
          "name": "stdout"
        },
        {
          "output_type": "execute_result",
          "data": {
            "text/html": [
              "<div>\n",
              "<style scoped>\n",
              "    .dataframe tbody tr th:only-of-type {\n",
              "        vertical-align: middle;\n",
              "    }\n",
              "\n",
              "    .dataframe tbody tr th {\n",
              "        vertical-align: top;\n",
              "    }\n",
              "\n",
              "    .dataframe thead th {\n",
              "        text-align: right;\n",
              "    }\n",
              "</style>\n",
              "<table border=\"1\" class=\"dataframe\">\n",
              "  <thead>\n",
              "    <tr style=\"text-align: right;\">\n",
              "      <th></th>\n",
              "      <th>Unnamed: 0</th>\n",
              "      <th>Species</th>\n",
              "      <th>Owner</th>\n",
              "      <th>Country.of.Origin</th>\n",
              "      <th>Farm.Name</th>\n",
              "      <th>Lot.Number</th>\n",
              "      <th>Mill</th>\n",
              "      <th>ICO.Number</th>\n",
              "      <th>Company</th>\n",
              "      <th>Altitude</th>\n",
              "      <th>Region</th>\n",
              "      <th>Producer</th>\n",
              "      <th>Number.of.Bags</th>\n",
              "      <th>Bag.Weight</th>\n",
              "      <th>In.Country.Partner</th>\n",
              "      <th>Harvest.Year</th>\n",
              "      <th>Grading.Date</th>\n",
              "      <th>Owner.1</th>\n",
              "      <th>Variety</th>\n",
              "      <th>Processing.Method</th>\n",
              "      <th>Aroma</th>\n",
              "      <th>Flavor</th>\n",
              "      <th>Aftertaste</th>\n",
              "      <th>Acidity</th>\n",
              "      <th>Body</th>\n",
              "      <th>Balance</th>\n",
              "      <th>Uniformity</th>\n",
              "      <th>Clean.Cup</th>\n",
              "      <th>Sweetness</th>\n",
              "      <th>Cupper.Points</th>\n",
              "      <th>Total.Cup.Points</th>\n",
              "      <th>Moisture</th>\n",
              "      <th>Category.One.Defects</th>\n",
              "      <th>Quakers</th>\n",
              "      <th>Color</th>\n",
              "      <th>Category.Two.Defects</th>\n",
              "      <th>Expiration</th>\n",
              "      <th>Certification.Body</th>\n",
              "      <th>Certification.Address</th>\n",
              "      <th>Certification.Contact</th>\n",
              "      <th>unit_of_measurement</th>\n",
              "      <th>altitude_low_meters</th>\n",
              "      <th>altitude_high_meters</th>\n",
              "      <th>altitude_mean_meters</th>\n",
              "    </tr>\n",
              "  </thead>\n",
              "  <tbody>\n",
              "    <tr>\n",
              "      <th>0</th>\n",
              "      <td>1</td>\n",
              "      <td>Arabica</td>\n",
              "      <td>metad plc</td>\n",
              "      <td>Ethiopia</td>\n",
              "      <td>metad plc</td>\n",
              "      <td>NaN</td>\n",
              "      <td>metad plc</td>\n",
              "      <td>2014/2015</td>\n",
              "      <td>metad agricultural developmet plc</td>\n",
              "      <td>1950-2200</td>\n",
              "      <td>guji-hambela</td>\n",
              "      <td>METAD PLC</td>\n",
              "      <td>300</td>\n",
              "      <td>60 kg</td>\n",
              "      <td>METAD Agricultural Development plc</td>\n",
              "      <td>2014</td>\n",
              "      <td>April 4th, 2015</td>\n",
              "      <td>metad plc</td>\n",
              "      <td>NaN</td>\n",
              "      <td>Washed / Wet</td>\n",
              "      <td>8.67</td>\n",
              "      <td>8.83</td>\n",
              "      <td>8.67</td>\n",
              "      <td>8.75</td>\n",
              "      <td>8.50</td>\n",
              "      <td>8.42</td>\n",
              "      <td>10.0</td>\n",
              "      <td>10.0</td>\n",
              "      <td>10.0</td>\n",
              "      <td>8.75</td>\n",
              "      <td>90.58</td>\n",
              "      <td>0.12</td>\n",
              "      <td>0</td>\n",
              "      <td>0.0</td>\n",
              "      <td>Green</td>\n",
              "      <td>0</td>\n",
              "      <td>April 3rd, 2016</td>\n",
              "      <td>METAD Agricultural Development plc</td>\n",
              "      <td>309fcf77415a3661ae83e027f7e5f05dad786e44</td>\n",
              "      <td>19fef5a731de2db57d16da10287413f5f99bc2dd</td>\n",
              "      <td>m</td>\n",
              "      <td>1950.0</td>\n",
              "      <td>2200.0</td>\n",
              "      <td>2075.0</td>\n",
              "    </tr>\n",
              "    <tr>\n",
              "      <th>1</th>\n",
              "      <td>2</td>\n",
              "      <td>Arabica</td>\n",
              "      <td>metad plc</td>\n",
              "      <td>Ethiopia</td>\n",
              "      <td>metad plc</td>\n",
              "      <td>NaN</td>\n",
              "      <td>metad plc</td>\n",
              "      <td>2014/2015</td>\n",
              "      <td>metad agricultural developmet plc</td>\n",
              "      <td>1950-2200</td>\n",
              "      <td>guji-hambela</td>\n",
              "      <td>METAD PLC</td>\n",
              "      <td>300</td>\n",
              "      <td>60 kg</td>\n",
              "      <td>METAD Agricultural Development plc</td>\n",
              "      <td>2014</td>\n",
              "      <td>April 4th, 2015</td>\n",
              "      <td>metad plc</td>\n",
              "      <td>Other</td>\n",
              "      <td>Washed / Wet</td>\n",
              "      <td>8.75</td>\n",
              "      <td>8.67</td>\n",
              "      <td>8.50</td>\n",
              "      <td>8.58</td>\n",
              "      <td>8.42</td>\n",
              "      <td>8.42</td>\n",
              "      <td>10.0</td>\n",
              "      <td>10.0</td>\n",
              "      <td>10.0</td>\n",
              "      <td>8.58</td>\n",
              "      <td>89.92</td>\n",
              "      <td>0.12</td>\n",
              "      <td>0</td>\n",
              "      <td>0.0</td>\n",
              "      <td>Green</td>\n",
              "      <td>1</td>\n",
              "      <td>April 3rd, 2016</td>\n",
              "      <td>METAD Agricultural Development plc</td>\n",
              "      <td>309fcf77415a3661ae83e027f7e5f05dad786e44</td>\n",
              "      <td>19fef5a731de2db57d16da10287413f5f99bc2dd</td>\n",
              "      <td>m</td>\n",
              "      <td>1950.0</td>\n",
              "      <td>2200.0</td>\n",
              "      <td>2075.0</td>\n",
              "    </tr>\n",
              "    <tr>\n",
              "      <th>2</th>\n",
              "      <td>3</td>\n",
              "      <td>Arabica</td>\n",
              "      <td>grounds for health admin</td>\n",
              "      <td>Guatemala</td>\n",
              "      <td>san marcos barrancas \"san cristobal cuch</td>\n",
              "      <td>NaN</td>\n",
              "      <td>NaN</td>\n",
              "      <td>NaN</td>\n",
              "      <td>NaN</td>\n",
              "      <td>1600 - 1800 m</td>\n",
              "      <td>NaN</td>\n",
              "      <td>NaN</td>\n",
              "      <td>5</td>\n",
              "      <td>1</td>\n",
              "      <td>Specialty Coffee Association</td>\n",
              "      <td>NaN</td>\n",
              "      <td>May 31st, 2010</td>\n",
              "      <td>Grounds for Health Admin</td>\n",
              "      <td>Bourbon</td>\n",
              "      <td>NaN</td>\n",
              "      <td>8.42</td>\n",
              "      <td>8.50</td>\n",
              "      <td>8.42</td>\n",
              "      <td>8.42</td>\n",
              "      <td>8.33</td>\n",
              "      <td>8.42</td>\n",
              "      <td>10.0</td>\n",
              "      <td>10.0</td>\n",
              "      <td>10.0</td>\n",
              "      <td>9.25</td>\n",
              "      <td>89.75</td>\n",
              "      <td>0.00</td>\n",
              "      <td>0</td>\n",
              "      <td>0.0</td>\n",
              "      <td>NaN</td>\n",
              "      <td>0</td>\n",
              "      <td>May 31st, 2011</td>\n",
              "      <td>Specialty Coffee Association</td>\n",
              "      <td>36d0d00a3724338ba7937c52a378d085f2172daa</td>\n",
              "      <td>0878a7d4b9d35ddbf0fe2ce69a2062cceb45a660</td>\n",
              "      <td>m</td>\n",
              "      <td>1600.0</td>\n",
              "      <td>1800.0</td>\n",
              "      <td>1700.0</td>\n",
              "    </tr>\n",
              "    <tr>\n",
              "      <th>3</th>\n",
              "      <td>4</td>\n",
              "      <td>Arabica</td>\n",
              "      <td>yidnekachew dabessa</td>\n",
              "      <td>Ethiopia</td>\n",
              "      <td>yidnekachew dabessa coffee plantation</td>\n",
              "      <td>NaN</td>\n",
              "      <td>wolensu</td>\n",
              "      <td>NaN</td>\n",
              "      <td>yidnekachew debessa coffee plantation</td>\n",
              "      <td>1800-2200</td>\n",
              "      <td>oromia</td>\n",
              "      <td>Yidnekachew Dabessa Coffee Plantation</td>\n",
              "      <td>320</td>\n",
              "      <td>60 kg</td>\n",
              "      <td>METAD Agricultural Development plc</td>\n",
              "      <td>2014</td>\n",
              "      <td>March 26th, 2015</td>\n",
              "      <td>Yidnekachew Dabessa</td>\n",
              "      <td>NaN</td>\n",
              "      <td>Natural / Dry</td>\n",
              "      <td>8.17</td>\n",
              "      <td>8.58</td>\n",
              "      <td>8.42</td>\n",
              "      <td>8.42</td>\n",
              "      <td>8.50</td>\n",
              "      <td>8.25</td>\n",
              "      <td>10.0</td>\n",
              "      <td>10.0</td>\n",
              "      <td>10.0</td>\n",
              "      <td>8.67</td>\n",
              "      <td>89.00</td>\n",
              "      <td>0.11</td>\n",
              "      <td>0</td>\n",
              "      <td>0.0</td>\n",
              "      <td>Green</td>\n",
              "      <td>2</td>\n",
              "      <td>March 25th, 2016</td>\n",
              "      <td>METAD Agricultural Development plc</td>\n",
              "      <td>309fcf77415a3661ae83e027f7e5f05dad786e44</td>\n",
              "      <td>19fef5a731de2db57d16da10287413f5f99bc2dd</td>\n",
              "      <td>m</td>\n",
              "      <td>1800.0</td>\n",
              "      <td>2200.0</td>\n",
              "      <td>2000.0</td>\n",
              "    </tr>\n",
              "    <tr>\n",
              "      <th>4</th>\n",
              "      <td>5</td>\n",
              "      <td>Arabica</td>\n",
              "      <td>metad plc</td>\n",
              "      <td>Ethiopia</td>\n",
              "      <td>metad plc</td>\n",
              "      <td>NaN</td>\n",
              "      <td>metad plc</td>\n",
              "      <td>2014/2015</td>\n",
              "      <td>metad agricultural developmet plc</td>\n",
              "      <td>1950-2200</td>\n",
              "      <td>guji-hambela</td>\n",
              "      <td>METAD PLC</td>\n",
              "      <td>300</td>\n",
              "      <td>60 kg</td>\n",
              "      <td>METAD Agricultural Development plc</td>\n",
              "      <td>2014</td>\n",
              "      <td>April 4th, 2015</td>\n",
              "      <td>metad plc</td>\n",
              "      <td>Other</td>\n",
              "      <td>Washed / Wet</td>\n",
              "      <td>8.25</td>\n",
              "      <td>8.50</td>\n",
              "      <td>8.25</td>\n",
              "      <td>8.50</td>\n",
              "      <td>8.42</td>\n",
              "      <td>8.33</td>\n",
              "      <td>10.0</td>\n",
              "      <td>10.0</td>\n",
              "      <td>10.0</td>\n",
              "      <td>8.58</td>\n",
              "      <td>88.83</td>\n",
              "      <td>0.12</td>\n",
              "      <td>0</td>\n",
              "      <td>0.0</td>\n",
              "      <td>Green</td>\n",
              "      <td>2</td>\n",
              "      <td>April 3rd, 2016</td>\n",
              "      <td>METAD Agricultural Development plc</td>\n",
              "      <td>309fcf77415a3661ae83e027f7e5f05dad786e44</td>\n",
              "      <td>19fef5a731de2db57d16da10287413f5f99bc2dd</td>\n",
              "      <td>m</td>\n",
              "      <td>1950.0</td>\n",
              "      <td>2200.0</td>\n",
              "      <td>2075.0</td>\n",
              "    </tr>\n",
              "  </tbody>\n",
              "</table>\n",
              "</div>"
            ],
            "text/plain": [
              "   Unnamed: 0  Species  ... altitude_high_meters altitude_mean_meters\n",
              "0           1  Arabica  ...               2200.0               2075.0\n",
              "1           2  Arabica  ...               2200.0               2075.0\n",
              "2           3  Arabica  ...               1800.0               1700.0\n",
              "3           4  Arabica  ...               2200.0               2000.0\n",
              "4           5  Arabica  ...               2200.0               2075.0\n",
              "\n",
              "[5 rows x 44 columns]"
            ]
          },
          "metadata": {
            "tags": []
          },
          "execution_count": 301
        }
      ]
    },
    {
      "cell_type": "code",
      "metadata": {
        "id": "B1ruiL-quBa1",
        "colab_type": "code",
        "outputId": "108f0cbb-e5e8-44df-ac93-ae4e34545c0f",
        "colab": {
          "base_uri": "https://localhost:8080/",
          "height": 762
        }
      },
      "source": [
        "# checking empty data and missing values\n",
        "df[df.isnull().any(axis=1)]"
      ],
      "execution_count": 0,
      "outputs": [
        {
          "output_type": "execute_result",
          "data": {
            "text/html": [
              "<div>\n",
              "<style scoped>\n",
              "    .dataframe tbody tr th:only-of-type {\n",
              "        vertical-align: middle;\n",
              "    }\n",
              "\n",
              "    .dataframe tbody tr th {\n",
              "        vertical-align: top;\n",
              "    }\n",
              "\n",
              "    .dataframe thead th {\n",
              "        text-align: right;\n",
              "    }\n",
              "</style>\n",
              "<table border=\"1\" class=\"dataframe\">\n",
              "  <thead>\n",
              "    <tr style=\"text-align: right;\">\n",
              "      <th></th>\n",
              "      <th>Country.of.Origin</th>\n",
              "      <th>Farm.Name</th>\n",
              "      <th>Company</th>\n",
              "      <th>Altitude</th>\n",
              "      <th>Variety</th>\n",
              "      <th>Processing.Method</th>\n",
              "      <th>Color</th>\n",
              "      <th>altitude_mean_meters</th>\n",
              "      <th>Harvest.Year</th>\n",
              "      <th>Grading.Date</th>\n",
              "      <th>Aroma</th>\n",
              "      <th>Flavor</th>\n",
              "      <th>Aftertaste</th>\n",
              "      <th>Acidity</th>\n",
              "      <th>Body</th>\n",
              "      <th>Balance</th>\n",
              "      <th>Uniformity</th>\n",
              "      <th>Clean.Cup</th>\n",
              "      <th>Sweetness</th>\n",
              "      <th>Cupper.Points</th>\n",
              "      <th>Total.Cup.Points</th>\n",
              "      <th>Moisture</th>\n",
              "      <th>Category.One.Defects</th>\n",
              "      <th>Category.Two.Defects</th>\n",
              "      <th>Quakers</th>\n",
              "    </tr>\n",
              "  </thead>\n",
              "  <tbody>\n",
              "    <tr>\n",
              "      <th>0</th>\n",
              "      <td>Ethiopia</td>\n",
              "      <td>metad plc</td>\n",
              "      <td>metad agricultural developmet plc</td>\n",
              "      <td>1950-2200</td>\n",
              "      <td>NaN</td>\n",
              "      <td>Washed / Wet</td>\n",
              "      <td>Green</td>\n",
              "      <td>2075.0</td>\n",
              "      <td>2014</td>\n",
              "      <td>April 4th, 2015</td>\n",
              "      <td>8.67</td>\n",
              "      <td>8.83</td>\n",
              "      <td>8.67</td>\n",
              "      <td>8.75</td>\n",
              "      <td>8.50</td>\n",
              "      <td>8.42</td>\n",
              "      <td>10.00</td>\n",
              "      <td>10.00</td>\n",
              "      <td>10.00</td>\n",
              "      <td>8.75</td>\n",
              "      <td>90.58</td>\n",
              "      <td>0.12</td>\n",
              "      <td>0</td>\n",
              "      <td>0</td>\n",
              "      <td>0.0</td>\n",
              "    </tr>\n",
              "    <tr>\n",
              "      <th>2</th>\n",
              "      <td>Guatemala</td>\n",
              "      <td>san marcos barrancas \"san cristobal cuch</td>\n",
              "      <td>NaN</td>\n",
              "      <td>1600 - 1800 m</td>\n",
              "      <td>Bourbon</td>\n",
              "      <td>NaN</td>\n",
              "      <td>NaN</td>\n",
              "      <td>1700.0</td>\n",
              "      <td>NaN</td>\n",
              "      <td>May 31st, 2010</td>\n",
              "      <td>8.42</td>\n",
              "      <td>8.50</td>\n",
              "      <td>8.42</td>\n",
              "      <td>8.42</td>\n",
              "      <td>8.33</td>\n",
              "      <td>8.42</td>\n",
              "      <td>10.00</td>\n",
              "      <td>10.00</td>\n",
              "      <td>10.00</td>\n",
              "      <td>9.25</td>\n",
              "      <td>89.75</td>\n",
              "      <td>0.00</td>\n",
              "      <td>0</td>\n",
              "      <td>0</td>\n",
              "      <td>0.0</td>\n",
              "    </tr>\n",
              "    <tr>\n",
              "      <th>3</th>\n",
              "      <td>Ethiopia</td>\n",
              "      <td>yidnekachew dabessa coffee plantation</td>\n",
              "      <td>yidnekachew debessa coffee plantation</td>\n",
              "      <td>1800-2200</td>\n",
              "      <td>NaN</td>\n",
              "      <td>Natural / Dry</td>\n",
              "      <td>Green</td>\n",
              "      <td>2000.0</td>\n",
              "      <td>2014</td>\n",
              "      <td>March 26th, 2015</td>\n",
              "      <td>8.17</td>\n",
              "      <td>8.58</td>\n",
              "      <td>8.42</td>\n",
              "      <td>8.42</td>\n",
              "      <td>8.50</td>\n",
              "      <td>8.25</td>\n",
              "      <td>10.00</td>\n",
              "      <td>10.00</td>\n",
              "      <td>10.00</td>\n",
              "      <td>8.67</td>\n",
              "      <td>89.00</td>\n",
              "      <td>0.11</td>\n",
              "      <td>0</td>\n",
              "      <td>2</td>\n",
              "      <td>0.0</td>\n",
              "    </tr>\n",
              "    <tr>\n",
              "      <th>5</th>\n",
              "      <td>Brazil</td>\n",
              "      <td>NaN</td>\n",
              "      <td>NaN</td>\n",
              "      <td>NaN</td>\n",
              "      <td>NaN</td>\n",
              "      <td>Natural / Dry</td>\n",
              "      <td>Bluish-Green</td>\n",
              "      <td>NaN</td>\n",
              "      <td>2013</td>\n",
              "      <td>September 3rd, 2013</td>\n",
              "      <td>8.58</td>\n",
              "      <td>8.42</td>\n",
              "      <td>8.42</td>\n",
              "      <td>8.50</td>\n",
              "      <td>8.25</td>\n",
              "      <td>8.33</td>\n",
              "      <td>10.00</td>\n",
              "      <td>10.00</td>\n",
              "      <td>10.00</td>\n",
              "      <td>8.33</td>\n",
              "      <td>88.83</td>\n",
              "      <td>0.11</td>\n",
              "      <td>0</td>\n",
              "      <td>1</td>\n",
              "      <td>0.0</td>\n",
              "    </tr>\n",
              "    <tr>\n",
              "      <th>6</th>\n",
              "      <td>Peru</td>\n",
              "      <td>NaN</td>\n",
              "      <td>richmond investment-coffee department</td>\n",
              "      <td>NaN</td>\n",
              "      <td>Other</td>\n",
              "      <td>Washed / Wet</td>\n",
              "      <td>Bluish-Green</td>\n",
              "      <td>NaN</td>\n",
              "      <td>2012</td>\n",
              "      <td>September 17th, 2012</td>\n",
              "      <td>8.42</td>\n",
              "      <td>8.50</td>\n",
              "      <td>8.33</td>\n",
              "      <td>8.50</td>\n",
              "      <td>8.25</td>\n",
              "      <td>8.25</td>\n",
              "      <td>10.00</td>\n",
              "      <td>10.00</td>\n",
              "      <td>10.00</td>\n",
              "      <td>8.50</td>\n",
              "      <td>88.75</td>\n",
              "      <td>0.11</td>\n",
              "      <td>0</td>\n",
              "      <td>0</td>\n",
              "      <td>0.0</td>\n",
              "    </tr>\n",
              "    <tr>\n",
              "      <th>...</th>\n",
              "      <td>...</td>\n",
              "      <td>...</td>\n",
              "      <td>...</td>\n",
              "      <td>...</td>\n",
              "      <td>...</td>\n",
              "      <td>...</td>\n",
              "      <td>...</td>\n",
              "      <td>...</td>\n",
              "      <td>...</td>\n",
              "      <td>...</td>\n",
              "      <td>...</td>\n",
              "      <td>...</td>\n",
              "      <td>...</td>\n",
              "      <td>...</td>\n",
              "      <td>...</td>\n",
              "      <td>...</td>\n",
              "      <td>...</td>\n",
              "      <td>...</td>\n",
              "      <td>...</td>\n",
              "      <td>...</td>\n",
              "      <td>...</td>\n",
              "      <td>...</td>\n",
              "      <td>...</td>\n",
              "      <td>...</td>\n",
              "      <td>...</td>\n",
              "    </tr>\n",
              "    <tr>\n",
              "      <th>1296</th>\n",
              "      <td>United States (Hawaii)</td>\n",
              "      <td>NaN</td>\n",
              "      <td>kona pacific farmers cooperative</td>\n",
              "      <td>NaN</td>\n",
              "      <td>Hawaiian Kona</td>\n",
              "      <td>Natural / Dry</td>\n",
              "      <td>Green</td>\n",
              "      <td>NaN</td>\n",
              "      <td>2014</td>\n",
              "      <td>March 10th, 2014</td>\n",
              "      <td>6.92</td>\n",
              "      <td>6.92</td>\n",
              "      <td>6.92</td>\n",
              "      <td>7.50</td>\n",
              "      <td>7.58</td>\n",
              "      <td>7.17</td>\n",
              "      <td>6.67</td>\n",
              "      <td>6.67</td>\n",
              "      <td>9.33</td>\n",
              "      <td>6.92</td>\n",
              "      <td>72.58</td>\n",
              "      <td>0.11</td>\n",
              "      <td>5</td>\n",
              "      <td>9</td>\n",
              "      <td>0.0</td>\n",
              "    </tr>\n",
              "    <tr>\n",
              "      <th>1297</th>\n",
              "      <td>Haiti</td>\n",
              "      <td>2000 farmers</td>\n",
              "      <td>NaN</td>\n",
              "      <td>640m-1400m</td>\n",
              "      <td>NaN</td>\n",
              "      <td>NaN</td>\n",
              "      <td>NaN</td>\n",
              "      <td>1020.0</td>\n",
              "      <td>2010</td>\n",
              "      <td>August 23rd, 2011</td>\n",
              "      <td>6.92</td>\n",
              "      <td>6.75</td>\n",
              "      <td>7.08</td>\n",
              "      <td>7.17</td>\n",
              "      <td>7.33</td>\n",
              "      <td>6.67</td>\n",
              "      <td>10.00</td>\n",
              "      <td>5.33</td>\n",
              "      <td>8.67</td>\n",
              "      <td>6.42</td>\n",
              "      <td>72.33</td>\n",
              "      <td>0.08</td>\n",
              "      <td>1</td>\n",
              "      <td>0</td>\n",
              "      <td>0.0</td>\n",
              "    </tr>\n",
              "    <tr>\n",
              "      <th>1300</th>\n",
              "      <td>Mexico</td>\n",
              "      <td>la morena</td>\n",
              "      <td>NaN</td>\n",
              "      <td>1800</td>\n",
              "      <td>Bourbon</td>\n",
              "      <td>Washed / Wet</td>\n",
              "      <td>Green</td>\n",
              "      <td>1800.0</td>\n",
              "      <td>2012</td>\n",
              "      <td>July 11th, 2012</td>\n",
              "      <td>6.50</td>\n",
              "      <td>6.67</td>\n",
              "      <td>6.42</td>\n",
              "      <td>7.17</td>\n",
              "      <td>7.33</td>\n",
              "      <td>6.50</td>\n",
              "      <td>8.00</td>\n",
              "      <td>6.00</td>\n",
              "      <td>10.00</td>\n",
              "      <td>6.42</td>\n",
              "      <td>71.00</td>\n",
              "      <td>0.11</td>\n",
              "      <td>0</td>\n",
              "      <td>0</td>\n",
              "      <td>0.0</td>\n",
              "    </tr>\n",
              "    <tr>\n",
              "      <th>1302</th>\n",
              "      <td>Brazil</td>\n",
              "      <td>NaN</td>\n",
              "      <td>volcafe ltda.</td>\n",
              "      <td>NaN</td>\n",
              "      <td>NaN</td>\n",
              "      <td>Natural / Dry</td>\n",
              "      <td>Green</td>\n",
              "      <td>NaN</td>\n",
              "      <td>2017 / 2018</td>\n",
              "      <td>October 27th, 2017</td>\n",
              "      <td>7.00</td>\n",
              "      <td>7.00</td>\n",
              "      <td>6.83</td>\n",
              "      <td>7.00</td>\n",
              "      <td>7.33</td>\n",
              "      <td>6.83</td>\n",
              "      <td>6.00</td>\n",
              "      <td>6.00</td>\n",
              "      <td>10.00</td>\n",
              "      <td>6.67</td>\n",
              "      <td>70.67</td>\n",
              "      <td>0.11</td>\n",
              "      <td>0</td>\n",
              "      <td>55</td>\n",
              "      <td>1.0</td>\n",
              "    </tr>\n",
              "    <tr>\n",
              "      <th>1310</th>\n",
              "      <td>Honduras</td>\n",
              "      <td>los hicaques</td>\n",
              "      <td>cigrah s.a de c.v</td>\n",
              "      <td>1400</td>\n",
              "      <td>Caturra</td>\n",
              "      <td>NaN</td>\n",
              "      <td>Green</td>\n",
              "      <td>1400.0</td>\n",
              "      <td>2017</td>\n",
              "      <td>April 28th, 2017</td>\n",
              "      <td>0.00</td>\n",
              "      <td>0.00</td>\n",
              "      <td>0.00</td>\n",
              "      <td>0.00</td>\n",
              "      <td>0.00</td>\n",
              "      <td>0.00</td>\n",
              "      <td>0.00</td>\n",
              "      <td>0.00</td>\n",
              "      <td>0.00</td>\n",
              "      <td>0.00</td>\n",
              "      <td>0.00</td>\n",
              "      <td>0.12</td>\n",
              "      <td>0</td>\n",
              "      <td>2</td>\n",
              "      <td>0.0</td>\n",
              "    </tr>\n",
              "  </tbody>\n",
              "</table>\n",
              "<p>633 rows × 25 columns</p>\n",
              "</div>"
            ],
            "text/plain": [
              "           Country.of.Origin  ... Quakers\n",
              "0                   Ethiopia  ...     0.0\n",
              "2                  Guatemala  ...     0.0\n",
              "3                   Ethiopia  ...     0.0\n",
              "5                     Brazil  ...     0.0\n",
              "6                       Peru  ...     0.0\n",
              "...                      ...  ...     ...\n",
              "1296  United States (Hawaii)  ...     0.0\n",
              "1297                   Haiti  ...     0.0\n",
              "1300                  Mexico  ...     0.0\n",
              "1302                  Brazil  ...     1.0\n",
              "1310                Honduras  ...     0.0\n",
              "\n",
              "[633 rows x 25 columns]"
            ]
          },
          "metadata": {
            "tags": []
          },
          "execution_count": 302
        }
      ]
    },
    {
      "cell_type": "markdown",
      "metadata": {
        "id": "YTWl1w4MvJj7",
        "colab_type": "text"
      },
      "source": [
        "The sample is pretty much complete. \n",
        "\n",
        "We do not have critical missing data so we will analyse the whole dataset."
      ]
    },
    {
      "cell_type": "code",
      "metadata": {
        "id": "lvMN3ikOLrjs",
        "colab_type": "code",
        "outputId": "712c239b-a078-4a05-e226-f11216004bc1",
        "colab": {
          "base_uri": "https://localhost:8080/",
          "height": 215
        }
      },
      "source": [
        "# analysing all columns in dataset\n",
        "data.columns"
      ],
      "execution_count": 0,
      "outputs": [
        {
          "output_type": "execute_result",
          "data": {
            "text/plain": [
              "Index(['Unnamed: 0', 'Species', 'Owner', 'Country.of.Origin', 'Farm.Name',\n",
              "       'Lot.Number', 'Mill', 'ICO.Number', 'Company', 'Altitude', 'Region',\n",
              "       'Producer', 'Number.of.Bags', 'Bag.Weight', 'In.Country.Partner',\n",
              "       'Harvest.Year', 'Grading.Date', 'Owner.1', 'Variety',\n",
              "       'Processing.Method', 'Aroma', 'Flavor', 'Aftertaste', 'Acidity', 'Body',\n",
              "       'Balance', 'Uniformity', 'Clean.Cup', 'Sweetness', 'Cupper.Points',\n",
              "       'Total.Cup.Points', 'Moisture', 'Category.One.Defects', 'Quakers',\n",
              "       'Color', 'Category.Two.Defects', 'Expiration', 'Certification.Body',\n",
              "       'Certification.Address', 'Certification.Contact', 'unit_of_measurement',\n",
              "       'altitude_low_meters', 'altitude_high_meters', 'altitude_mean_meters'],\n",
              "      dtype='object')"
            ]
          },
          "metadata": {
            "tags": []
          },
          "execution_count": 303
        }
      ]
    },
    {
      "cell_type": "code",
      "metadata": {
        "id": "BTgOXEHOLrl0",
        "colab_type": "code",
        "colab": {}
      },
      "source": [
        "# selecting columns that really matter for the analysis\n",
        "df = data[['Country.of.Origin', 'Farm.Name','Company','Altitude','Variety', 'Processing.Method', 'Color',\\\n",
        "   'altitude_mean_meters', 'Harvest.Year', 'Grading.Date',\n",
        "   'Aroma', 'Flavor','Aftertaste','Acidity', 'Body',\n",
        "   'Balance', 'Uniformity', 'Clean.Cup', 'Sweetness', 'Cupper.Points',\n",
        "   'Total.Cup.Points', 'Moisture', 'Category.One.Defects',  'Category.Two.Defects', 'Quakers']].copy()"
      ],
      "execution_count": 0,
      "outputs": []
    },
    {
      "cell_type": "code",
      "metadata": {
        "id": "FrK-GeZVVO4X",
        "colab_type": "code",
        "colab": {}
      },
      "source": [
        "# ordering grades according to their countries \n",
        "countries = list(df.groupby('Country.of.Origin').size().sort_values(ascending = False).index)\n",
        "ind= df['Country.of.Origin'].apply(lambda x: x in countries)"
      ],
      "execution_count": 0,
      "outputs": []
    },
    {
      "cell_type": "code",
      "metadata": {
        "id": "pEiTXtKiwgDj",
        "colab_type": "code",
        "outputId": "a800ec40-3ac3-4f38-bfea-8a54ee2cc37a",
        "colab": {
          "base_uri": "https://localhost:8080/",
          "height": 496
        }
      },
      "source": [
        "# display selected data\n",
        "df.head()"
      ],
      "execution_count": 0,
      "outputs": [
        {
          "output_type": "execute_result",
          "data": {
            "text/html": [
              "<div>\n",
              "<style scoped>\n",
              "    .dataframe tbody tr th:only-of-type {\n",
              "        vertical-align: middle;\n",
              "    }\n",
              "\n",
              "    .dataframe tbody tr th {\n",
              "        vertical-align: top;\n",
              "    }\n",
              "\n",
              "    .dataframe thead th {\n",
              "        text-align: right;\n",
              "    }\n",
              "</style>\n",
              "<table border=\"1\" class=\"dataframe\">\n",
              "  <thead>\n",
              "    <tr style=\"text-align: right;\">\n",
              "      <th></th>\n",
              "      <th>Country.of.Origin</th>\n",
              "      <th>Farm.Name</th>\n",
              "      <th>Company</th>\n",
              "      <th>Altitude</th>\n",
              "      <th>Variety</th>\n",
              "      <th>Processing.Method</th>\n",
              "      <th>Color</th>\n",
              "      <th>altitude_mean_meters</th>\n",
              "      <th>Harvest.Year</th>\n",
              "      <th>Grading.Date</th>\n",
              "      <th>Aroma</th>\n",
              "      <th>Flavor</th>\n",
              "      <th>Aftertaste</th>\n",
              "      <th>Acidity</th>\n",
              "      <th>Body</th>\n",
              "      <th>Balance</th>\n",
              "      <th>Uniformity</th>\n",
              "      <th>Clean.Cup</th>\n",
              "      <th>Sweetness</th>\n",
              "      <th>Cupper.Points</th>\n",
              "      <th>Total.Cup.Points</th>\n",
              "      <th>Moisture</th>\n",
              "      <th>Category.One.Defects</th>\n",
              "      <th>Category.Two.Defects</th>\n",
              "      <th>Quakers</th>\n",
              "    </tr>\n",
              "  </thead>\n",
              "  <tbody>\n",
              "    <tr>\n",
              "      <th>0</th>\n",
              "      <td>Ethiopia</td>\n",
              "      <td>metad plc</td>\n",
              "      <td>metad agricultural developmet plc</td>\n",
              "      <td>1950-2200</td>\n",
              "      <td>NaN</td>\n",
              "      <td>Washed / Wet</td>\n",
              "      <td>Green</td>\n",
              "      <td>2075.0</td>\n",
              "      <td>2014</td>\n",
              "      <td>April 4th, 2015</td>\n",
              "      <td>8.67</td>\n",
              "      <td>8.83</td>\n",
              "      <td>8.67</td>\n",
              "      <td>8.75</td>\n",
              "      <td>8.50</td>\n",
              "      <td>8.42</td>\n",
              "      <td>10.0</td>\n",
              "      <td>10.0</td>\n",
              "      <td>10.0</td>\n",
              "      <td>8.75</td>\n",
              "      <td>90.58</td>\n",
              "      <td>0.12</td>\n",
              "      <td>0</td>\n",
              "      <td>0</td>\n",
              "      <td>0.0</td>\n",
              "    </tr>\n",
              "    <tr>\n",
              "      <th>1</th>\n",
              "      <td>Ethiopia</td>\n",
              "      <td>metad plc</td>\n",
              "      <td>metad agricultural developmet plc</td>\n",
              "      <td>1950-2200</td>\n",
              "      <td>Other</td>\n",
              "      <td>Washed / Wet</td>\n",
              "      <td>Green</td>\n",
              "      <td>2075.0</td>\n",
              "      <td>2014</td>\n",
              "      <td>April 4th, 2015</td>\n",
              "      <td>8.75</td>\n",
              "      <td>8.67</td>\n",
              "      <td>8.50</td>\n",
              "      <td>8.58</td>\n",
              "      <td>8.42</td>\n",
              "      <td>8.42</td>\n",
              "      <td>10.0</td>\n",
              "      <td>10.0</td>\n",
              "      <td>10.0</td>\n",
              "      <td>8.58</td>\n",
              "      <td>89.92</td>\n",
              "      <td>0.12</td>\n",
              "      <td>0</td>\n",
              "      <td>1</td>\n",
              "      <td>0.0</td>\n",
              "    </tr>\n",
              "    <tr>\n",
              "      <th>2</th>\n",
              "      <td>Guatemala</td>\n",
              "      <td>san marcos barrancas \"san cristobal cuch</td>\n",
              "      <td>NaN</td>\n",
              "      <td>1600 - 1800 m</td>\n",
              "      <td>Bourbon</td>\n",
              "      <td>NaN</td>\n",
              "      <td>NaN</td>\n",
              "      <td>1700.0</td>\n",
              "      <td>NaN</td>\n",
              "      <td>May 31st, 2010</td>\n",
              "      <td>8.42</td>\n",
              "      <td>8.50</td>\n",
              "      <td>8.42</td>\n",
              "      <td>8.42</td>\n",
              "      <td>8.33</td>\n",
              "      <td>8.42</td>\n",
              "      <td>10.0</td>\n",
              "      <td>10.0</td>\n",
              "      <td>10.0</td>\n",
              "      <td>9.25</td>\n",
              "      <td>89.75</td>\n",
              "      <td>0.00</td>\n",
              "      <td>0</td>\n",
              "      <td>0</td>\n",
              "      <td>0.0</td>\n",
              "    </tr>\n",
              "    <tr>\n",
              "      <th>3</th>\n",
              "      <td>Ethiopia</td>\n",
              "      <td>yidnekachew dabessa coffee plantation</td>\n",
              "      <td>yidnekachew debessa coffee plantation</td>\n",
              "      <td>1800-2200</td>\n",
              "      <td>NaN</td>\n",
              "      <td>Natural / Dry</td>\n",
              "      <td>Green</td>\n",
              "      <td>2000.0</td>\n",
              "      <td>2014</td>\n",
              "      <td>March 26th, 2015</td>\n",
              "      <td>8.17</td>\n",
              "      <td>8.58</td>\n",
              "      <td>8.42</td>\n",
              "      <td>8.42</td>\n",
              "      <td>8.50</td>\n",
              "      <td>8.25</td>\n",
              "      <td>10.0</td>\n",
              "      <td>10.0</td>\n",
              "      <td>10.0</td>\n",
              "      <td>8.67</td>\n",
              "      <td>89.00</td>\n",
              "      <td>0.11</td>\n",
              "      <td>0</td>\n",
              "      <td>2</td>\n",
              "      <td>0.0</td>\n",
              "    </tr>\n",
              "    <tr>\n",
              "      <th>4</th>\n",
              "      <td>Ethiopia</td>\n",
              "      <td>metad plc</td>\n",
              "      <td>metad agricultural developmet plc</td>\n",
              "      <td>1950-2200</td>\n",
              "      <td>Other</td>\n",
              "      <td>Washed / Wet</td>\n",
              "      <td>Green</td>\n",
              "      <td>2075.0</td>\n",
              "      <td>2014</td>\n",
              "      <td>April 4th, 2015</td>\n",
              "      <td>8.25</td>\n",
              "      <td>8.50</td>\n",
              "      <td>8.25</td>\n",
              "      <td>8.50</td>\n",
              "      <td>8.42</td>\n",
              "      <td>8.33</td>\n",
              "      <td>10.0</td>\n",
              "      <td>10.0</td>\n",
              "      <td>10.0</td>\n",
              "      <td>8.58</td>\n",
              "      <td>88.83</td>\n",
              "      <td>0.12</td>\n",
              "      <td>0</td>\n",
              "      <td>2</td>\n",
              "      <td>0.0</td>\n",
              "    </tr>\n",
              "  </tbody>\n",
              "</table>\n",
              "</div>"
            ],
            "text/plain": [
              "  Country.of.Origin  ... Quakers\n",
              "0          Ethiopia  ...     0.0\n",
              "1          Ethiopia  ...     0.0\n",
              "2         Guatemala  ...     0.0\n",
              "3          Ethiopia  ...     0.0\n",
              "4          Ethiopia  ...     0.0\n",
              "\n",
              "[5 rows x 25 columns]"
            ]
          },
          "metadata": {
            "tags": []
          },
          "execution_count": 306
        }
      ]
    },
    {
      "cell_type": "code",
      "metadata": {
        "id": "MJsWhkJMVO9S",
        "colab_type": "code",
        "outputId": "19f84e1f-f72c-414f-a7a7-db35895f229b",
        "colab": {
          "base_uri": "https://localhost:8080/",
          "height": 701
        }
      },
      "source": [
        "# ordering final grade\n",
        "df[ind].groupby('Country.of.Origin')['Total.Cup.Points'].median().sort_values(ascending = False)"
      ],
      "execution_count": 0,
      "outputs": [
        {
          "output_type": "execute_result",
          "data": {
            "text/plain": [
              "Country.of.Origin\n",
              "United States                   87.165\n",
              "Papua New Guinea                85.750\n",
              "Ethiopia                        85.205\n",
              "Japan                           84.670\n",
              "Kenya                           84.580\n",
              "Panama                          84.125\n",
              "Uganda                          83.875\n",
              "Ecuador                         83.830\n",
              "Costa Rica                      83.250\n",
              "Colombia                        83.250\n",
              "China                           83.170\n",
              "Vietnam                         82.830\n",
              "Rwanda                          82.830\n",
              "El Salvador                     82.830\n",
              "Peru                            82.795\n",
              "United States (Hawaii)          82.750\n",
              "Thailand                        82.670\n",
              "Indonesia                       82.665\n",
              "Guatemala                       82.500\n",
              "Brazil                          82.420\n",
              "Tanzania, United Republic Of    82.170\n",
              "United States (Puerto Rico)     82.040\n",
              "Taiwan                          82.000\n",
              "Laos                            82.000\n",
              "Zambia                          81.920\n",
              "Burundi                         81.830\n",
              "Honduras                        81.670\n",
              "Mexico                          81.625\n",
              "Malawi                          81.580\n",
              "Philippines                     81.330\n",
              "Nicaragua                       80.835\n",
              "Myanmar                         80.625\n",
              "Mauritius                       80.500\n",
              "Cote d?Ivoire                   79.330\n",
              "Haiti                           79.000\n",
              "India                           76.830\n",
              "Name: Total.Cup.Points, dtype: float64"
            ]
          },
          "metadata": {
            "tags": []
          },
          "execution_count": 307
        }
      ]
    },
    {
      "cell_type": "code",
      "metadata": {
        "colab_type": "code",
        "outputId": "af827878-f27f-44a5-d783-c45298be645c",
        "id": "SU5yh0xFsLRP",
        "colab": {
          "base_uri": "https://localhost:8080/",
          "height": 701
        }
      },
      "source": [
        "# ordering Aroma\n",
        "df[ind].groupby('Country.of.Origin')['Aroma'].median().sort_values(ascending = False)"
      ],
      "execution_count": 0,
      "outputs": [
        {
          "output_type": "execute_result",
          "data": {
            "text/plain": [
              "Country.of.Origin\n",
              "Papua New Guinea                8.330\n",
              "United States                   8.000\n",
              "Uganda                          7.920\n",
              "Rwanda                          7.830\n",
              "Kenya                           7.830\n",
              "Ethiopia                        7.830\n",
              "Japan                           7.750\n",
              "Panama                          7.710\n",
              "Indonesia                       7.710\n",
              "Costa Rica                      7.670\n",
              "El Salvador                     7.670\n",
              "Colombia                        7.670\n",
              "China                           7.670\n",
              "Peru                            7.670\n",
              "United States (Puerto Rico)     7.670\n",
              "India                           7.670\n",
              "Zambia                          7.670\n",
              "Guatemala                       7.580\n",
              "Malawi                          7.580\n",
              "Tanzania, United Republic Of    7.580\n",
              "Vietnam                         7.580\n",
              "Brazil                          7.500\n",
              "Ecuador                         7.500\n",
              "United States (Hawaii)          7.500\n",
              "Mexico                          7.500\n",
              "Thailand                        7.500\n",
              "Honduras                        7.500\n",
              "Taiwan                          7.500\n",
              "Cote d?Ivoire                   7.420\n",
              "Laos                            7.420\n",
              "Burundi                         7.415\n",
              "Nicaragua                       7.330\n",
              "Mauritius                       7.250\n",
              "Philippines                     7.250\n",
              "Myanmar                         7.210\n",
              "Haiti                           7.170\n",
              "Name: Aroma, dtype: float64"
            ]
          },
          "metadata": {
            "tags": []
          },
          "execution_count": 308
        }
      ]
    },
    {
      "cell_type": "code",
      "metadata": {
        "id": "nXopTDFasd1u",
        "colab_type": "code",
        "outputId": "876f29a4-3e89-4e49-97e6-957cad773578",
        "colab": {
          "base_uri": "https://localhost:8080/",
          "height": 701
        }
      },
      "source": [
        "# ordering Flavor\n",
        "df[ind].groupby('Country.of.Origin')['Flavor'].median().sort_values(ascending = False)"
      ],
      "execution_count": 0,
      "outputs": [
        {
          "output_type": "execute_result",
          "data": {
            "text/plain": [
              "Country.of.Origin\n",
              "Papua New Guinea                8.420\n",
              "United States                   8.290\n",
              "Ethiopia                        7.960\n",
              "Rwanda                          7.920\n",
              "Kenya                           7.830\n",
              "Uganda                          7.750\n",
              "Japan                           7.750\n",
              "Ecuador                         7.670\n",
              "China                           7.670\n",
              "El Salvador                     7.670\n",
              "Peru                            7.665\n",
              "United States (Puerto Rico)     7.625\n",
              "Panama                          7.585\n",
              "Indonesia                       7.580\n",
              "Brazil                          7.580\n",
              "Colombia                        7.580\n",
              "United States (Hawaii)          7.580\n",
              "Thailand                        7.540\n",
              "Costa Rica                      7.500\n",
              "Taiwan                          7.500\n",
              "Laos                            7.500\n",
              "Guatemala                       7.500\n",
              "Burundi                         7.460\n",
              "Honduras                        7.420\n",
              "Malawi                          7.420\n",
              "Vietnam                         7.420\n",
              "Mexico                          7.420\n",
              "Tanzania, United Republic Of    7.420\n",
              "Myanmar                         7.375\n",
              "India                           7.330\n",
              "Philippines                     7.330\n",
              "Nicaragua                       7.290\n",
              "Mauritius                       7.250\n",
              "Cote d?Ivoire                   7.250\n",
              "Zambia                          7.080\n",
              "Haiti                           6.915\n",
              "Name: Flavor, dtype: float64"
            ]
          },
          "metadata": {
            "tags": []
          },
          "execution_count": 309
        }
      ]
    },
    {
      "cell_type": "code",
      "metadata": {
        "id": "wN5v8muKslPH",
        "colab_type": "code",
        "outputId": "572086f0-a7e9-4177-cf05-e8b29cd1401e",
        "colab": {
          "base_uri": "https://localhost:8080/",
          "height": 701
        }
      },
      "source": [
        "# ordering Aftertaste\n",
        "df[ind].groupby('Country.of.Origin')['Aftertaste'].median().sort_values(ascending = False)"
      ],
      "execution_count": 0,
      "outputs": [
        {
          "output_type": "execute_result",
          "data": {
            "text/plain": [
              "Country.of.Origin\n",
              "United States                   8.125\n",
              "Ethiopia                        7.830\n",
              "Papua New Guinea                7.830\n",
              "Rwanda                          7.750\n",
              "Kenya                           7.750\n",
              "Japan                           7.750\n",
              "United States (Puerto Rico)     7.670\n",
              "Panama                          7.665\n",
              "Colombia                        7.580\n",
              "Uganda                          7.580\n",
              "Ecuador                         7.580\n",
              "Peru                            7.540\n",
              "Thailand                        7.500\n",
              "Costa Rica                      7.500\n",
              "United States (Hawaii)          7.500\n",
              "El Salvador                     7.500\n",
              "China                           7.460\n",
              "Indonesia                       7.460\n",
              "Zambia                          7.420\n",
              "Brazil                          7.420\n",
              "Philippines                     7.420\n",
              "Tanzania, United Republic Of    7.420\n",
              "Guatemala                       7.330\n",
              "Taiwan                          7.330\n",
              "Malawi                          7.330\n",
              "Laos                            7.250\n",
              "Vietnam                         7.250\n",
              "Mexico                          7.250\n",
              "Burundi                         7.250\n",
              "Mauritius                       7.170\n",
              "India                           7.170\n",
              "Honduras                        7.170\n",
              "Nicaragua                       7.170\n",
              "Haiti                           7.165\n",
              "Myanmar                         7.040\n",
              "Cote d?Ivoire                   6.830\n",
              "Name: Aftertaste, dtype: float64"
            ]
          },
          "metadata": {
            "tags": []
          },
          "execution_count": 310
        }
      ]
    },
    {
      "cell_type": "code",
      "metadata": {
        "id": "RLbLUYlcsrQp",
        "colab_type": "code",
        "outputId": "32e36ea5-ee9e-48b6-8b5f-546b735daf45",
        "colab": {
          "base_uri": "https://localhost:8080/",
          "height": 701
        }
      },
      "source": [
        "# ordering Acidity\n",
        "df[ind].groupby('Country.of.Origin')['Acidity'].median().sort_values(ascending = False)"
      ],
      "execution_count": 0,
      "outputs": [
        {
          "output_type": "execute_result",
          "data": {
            "text/plain": [
              "Country.of.Origin\n",
              "Papua New Guinea                8.330\n",
              "United States                   8.170\n",
              "Ethiopia                        8.000\n",
              "Rwanda                          7.830\n",
              "Kenya                           7.750\n",
              "Ecuador                         7.750\n",
              "Peru                            7.710\n",
              "Panama                          7.705\n",
              "United States (Hawaii)          7.670\n",
              "Uganda                          7.670\n",
              "Costa Rica                      7.670\n",
              "El Salvador                     7.670\n",
              "China                           7.625\n",
              "United States (Puerto Rico)     7.625\n",
              "Guatemala                       7.580\n",
              "Colombia                        7.580\n",
              "Indonesia                       7.580\n",
              "Thailand                        7.540\n",
              "Brazil                          7.500\n",
              "Vietnam                         7.500\n",
              "Tanzania, United Republic Of    7.460\n",
              "Honduras                        7.420\n",
              "Malawi                          7.420\n",
              "Japan                           7.420\n",
              "Mexico                          7.420\n",
              "Myanmar                         7.420\n",
              "Burundi                         7.415\n",
              "Laos                            7.330\n",
              "Philippines                     7.330\n",
              "Taiwan                          7.330\n",
              "Zambia                          7.330\n",
              "Nicaragua                       7.250\n",
              "Haiti                           7.210\n",
              "Mauritius                       7.170\n",
              "Cote d?Ivoire                   7.000\n",
              "India                           6.670\n",
              "Name: Acidity, dtype: float64"
            ]
          },
          "metadata": {
            "tags": []
          },
          "execution_count": 311
        }
      ]
    },
    {
      "cell_type": "code",
      "metadata": {
        "id": "OvP3G1fVsvTn",
        "colab_type": "code",
        "outputId": "db0b10e2-0f3c-489c-8bd6-f80f4191be4b",
        "colab": {
          "base_uri": "https://localhost:8080/",
          "height": 701
        }
      },
      "source": [
        "# ordering Body\n",
        "df[ind].groupby('Country.of.Origin')['Body'].median().sort_values(ascending = False)"
      ],
      "execution_count": 0,
      "outputs": [
        {
          "output_type": "execute_result",
          "data": {
            "text/plain": [
              "Country.of.Origin\n",
              "Japan                           8.080\n",
              "United States                   8.040\n",
              "Papua New Guinea                8.000\n",
              "Ethiopia                        7.920\n",
              "Peru                            7.920\n",
              "Ecuador                         7.830\n",
              "Zambia                          7.750\n",
              "Rwanda                          7.750\n",
              "Kenya                           7.750\n",
              "Colombia                        7.670\n",
              "Uganda                          7.670\n",
              "United States (Hawaii)          7.670\n",
              "United States (Puerto Rico)     7.665\n",
              "China                           7.625\n",
              "Panama                          7.585\n",
              "Thailand                        7.580\n",
              "El Salvador                     7.580\n",
              "Vietnam                         7.580\n",
              "Indonesia                       7.580\n",
              "Guatemala                       7.500\n",
              "Costa Rica                      7.500\n",
              "Brazil                          7.500\n",
              "Taiwan                          7.500\n",
              "Tanzania, United Republic Of    7.500\n",
              "Laos                            7.420\n",
              "Honduras                        7.420\n",
              "Mexico                          7.420\n",
              "Nicaragua                       7.420\n",
              "Cote d?Ivoire                   7.330\n",
              "Philippines                     7.330\n",
              "Malawi                          7.330\n",
              "Myanmar                         7.290\n",
              "Burundi                         7.290\n",
              "Mauritius                       7.250\n",
              "Haiti                           7.205\n",
              "India                           7.170\n",
              "Name: Body, dtype: float64"
            ]
          },
          "metadata": {
            "tags": []
          },
          "execution_count": 312
        }
      ]
    },
    {
      "cell_type": "code",
      "metadata": {
        "id": "0OJ2wpLEsxZq",
        "colab_type": "code",
        "outputId": "9d9f3f86-fe66-490b-8687-914a0be4e258",
        "colab": {
          "base_uri": "https://localhost:8080/",
          "height": 701
        }
      },
      "source": [
        "# ordering Balance\n",
        "df[ind].groupby('Country.of.Origin')['Balance'].median().sort_values(ascending = False)"
      ],
      "execution_count": 0,
      "outputs": [
        {
          "output_type": "execute_result",
          "data": {
            "text/plain": [
              "Country.of.Origin\n",
              "Papua New Guinea                8.250\n",
              "United States                   8.040\n",
              "Ethiopia                        7.920\n",
              "Panama                          7.875\n",
              "Ecuador                         7.830\n",
              "Japan                           7.830\n",
              "United States (Puerto Rico)     7.750\n",
              "Kenya                           7.750\n",
              "Rwanda                          7.750\n",
              "United States (Hawaii)          7.670\n",
              "Uganda                          7.670\n",
              "El Salvador                     7.670\n",
              "Colombia                        7.670\n",
              "Costa Rica                      7.670\n",
              "China                           7.625\n",
              "Peru                            7.580\n",
              "Indonesia                       7.540\n",
              "Guatemala                       7.500\n",
              "Philippines                     7.500\n",
              "Laos                            7.500\n",
              "Thailand                        7.500\n",
              "Brazil                          7.500\n",
              "Tanzania, United Republic Of    7.460\n",
              "Zambia                          7.420\n",
              "India                           7.420\n",
              "Vietnam                         7.420\n",
              "Malawi                          7.420\n",
              "Burundi                         7.415\n",
              "Honduras                        7.330\n",
              "Mexico                          7.330\n",
              "Taiwan                          7.330\n",
              "Nicaragua                       7.250\n",
              "Mauritius                       7.170\n",
              "Haiti                           7.125\n",
              "Cote d?Ivoire                   7.080\n",
              "Myanmar                         7.080\n",
              "Name: Balance, dtype: float64"
            ]
          },
          "metadata": {
            "tags": []
          },
          "execution_count": 313
        }
      ]
    },
    {
      "cell_type": "code",
      "metadata": {
        "id": "8xNNmlPVs0M0",
        "colab_type": "code",
        "outputId": "3a1ff3f5-f330-4565-c452-6fa80523c02e",
        "colab": {
          "base_uri": "https://localhost:8080/",
          "height": 701
        }
      },
      "source": [
        "# ordering Uniformity\n",
        "df[ind].groupby('Country.of.Origin')['Uniformity'].median().sort_values(ascending = False)"
      ],
      "execution_count": 0,
      "outputs": [
        {
          "output_type": "execute_result",
          "data": {
            "text/plain": [
              "Country.of.Origin\n",
              "Zambia                          10.000\n",
              "Guatemala                       10.000\n",
              "Laos                            10.000\n",
              "Kenya                           10.000\n",
              "Japan                           10.000\n",
              "Indonesia                       10.000\n",
              "Honduras                        10.000\n",
              "Haiti                           10.000\n",
              "Ethiopia                        10.000\n",
              "Mauritius                       10.000\n",
              "El Salvador                     10.000\n",
              "Ecuador                         10.000\n",
              "Costa Rica                      10.000\n",
              "Colombia                        10.000\n",
              "China                           10.000\n",
              "Burundi                         10.000\n",
              "Vietnam                         10.000\n",
              "Malawi                          10.000\n",
              "Mexico                          10.000\n",
              "Myanmar                         10.000\n",
              "United States (Hawaii)          10.000\n",
              "United States                   10.000\n",
              "Uganda                          10.000\n",
              "Thailand                        10.000\n",
              "Tanzania, United Republic Of    10.000\n",
              "Taiwan                          10.000\n",
              "Philippines                     10.000\n",
              "Panama                          10.000\n",
              "Nicaragua                       10.000\n",
              "Brazil                          10.000\n",
              "Peru                             9.665\n",
              "United States (Puerto Rico)      9.665\n",
              "Rwanda                           9.330\n",
              "India                            9.330\n",
              "Cote d?Ivoire                    9.330\n",
              "Papua New Guinea                 9.330\n",
              "Name: Uniformity, dtype: float64"
            ]
          },
          "metadata": {
            "tags": []
          },
          "execution_count": 314
        }
      ]
    },
    {
      "cell_type": "code",
      "metadata": {
        "id": "v_HcJBrVs_bV",
        "colab_type": "code",
        "outputId": "d53f58b6-8147-4397-d9c9-ae46d8719b49",
        "colab": {
          "base_uri": "https://localhost:8080/",
          "height": 701
        }
      },
      "source": [
        "# ordering Cupper Points\n",
        "df[ind].groupby('Country.of.Origin')['Cupper.Points'].median().sort_values(ascending = False)"
      ],
      "execution_count": 0,
      "outputs": [
        {
          "output_type": "execute_result",
          "data": {
            "text/plain": [
              "Country.of.Origin\n",
              "United States                   8.170\n",
              "Japan                           8.080\n",
              "Ethiopia                        8.000\n",
              "Rwanda                          8.000\n",
              "Papua New Guinea                7.920\n",
              "Kenya                           7.830\n",
              "Panama                          7.705\n",
              "Uganda                          7.670\n",
              "Vietnam                         7.670\n",
              "Ecuador                         7.670\n",
              "Costa Rica                      7.670\n",
              "China                           7.670\n",
              "United States (Puerto Rico)     7.585\n",
              "Colombia                        7.580\n",
              "United States (Hawaii)          7.580\n",
              "El Salvador                     7.580\n",
              "Burundi                         7.580\n",
              "Indonesia                       7.540\n",
              "Peru                            7.500\n",
              "Thailand                        7.500\n",
              "Laos                            7.500\n",
              "Tanzania, United Republic Of    7.500\n",
              "Brazil                          7.500\n",
              "Guatemala                       7.420\n",
              "India                           7.420\n",
              "Malawi                          7.330\n",
              "Honduras                        7.330\n",
              "Mexico                          7.330\n",
              "Philippines                     7.330\n",
              "Taiwan                          7.330\n",
              "Mauritius                       7.250\n",
              "Nicaragua                       7.250\n",
              "Zambia                          7.250\n",
              "Myanmar                         7.210\n",
              "Cote d?Ivoire                   7.080\n",
              "Haiti                           7.040\n",
              "Name: Cupper.Points, dtype: float64"
            ]
          },
          "metadata": {
            "tags": []
          },
          "execution_count": 315
        }
      ]
    },
    {
      "cell_type": "code",
      "metadata": {
        "id": "NmyHpPeNXhSV",
        "colab_type": "code",
        "colab": {}
      },
      "source": [
        "# separating essential characteristics in an array\n",
        "characteristics = np.array(['Aroma', 'Flavor','Aftertaste','Acidity', 'Body',\n",
        "   'Balance', 'Uniformity', 'Clean.Cup', 'Sweetness', 'Cupper.Points'])\n",
        "stats=df.loc[36, characteristics].values"
      ],
      "execution_count": 0,
      "outputs": []
    },
    {
      "cell_type": "code",
      "metadata": {
        "id": "14FdC4PiXqea",
        "colab_type": "code",
        "colab": {}
      },
      "source": [
        "# setting graph angles\n",
        "angles=np.linspace(0, 2*np.pi, len(characteristics), endpoint=False)\n",
        "\n",
        "# close the plot\n",
        "stats=np.concatenate((stats,[stats[0]]))\n",
        "angles=np.concatenate((angles,[angles[0]]))"
      ],
      "execution_count": 0,
      "outputs": []
    },
    {
      "cell_type": "code",
      "metadata": {
        "id": "2AmL63E_YX-p",
        "colab_type": "code",
        "outputId": "bd76b009-0d14-42b9-bb79-2ca84e5b0fa4",
        "colab": {
          "base_uri": "https://localhost:8080/",
          "height": 501
        }
      },
      "source": [
        "# plotting aka chart with matplotlib\n",
        "fig=plt.figure(figsize=(8,8))\n",
        "ax = fig.add_subplot(1,1,1, polar=True)\n",
        "ax.plot(angles, stats, 'o', linewidth=2, linestyle='solid')\n",
        "ax.fill(angles, stats,'b', alpha=0.1)\n",
        "ax.set_thetagrids(angles * 180/np.pi, characteristics)\n",
        "ax.set_title([df.loc[37,\"Country.of.Origin\"]], y=1, fontdict={'fontsize': 18})\n",
        "\n",
        "ax.grid(True)"
      ],
      "execution_count": 0,
      "outputs": [
        {
          "output_type": "display_data",
          "data": {
            "image/png": "[encoded data removed]",
            "text/plain": [
              "<Figure size 576x576 with 1 Axes>"
            ]
          },
          "metadata": {
            "tags": [],
            "needs_background": "light"
          }
        }
      ]
    },
    {
      "cell_type": "code",
      "metadata": {
        "id": "AvQCZus3RgKz",
        "colab_type": "code",
        "colab": {
          "base_uri": "https://localhost:8080/",
          "height": 411
        },
        "outputId": "a562c69d-1fd5-40b5-951d-86e435b161bc"
      },
      "source": [
        "# importing dataset for Robusta analysis\n",
        "rb = pd.read_csv('https://raw.githubusercontent.com/jldbc/coffee-quality-database/master/data/robusta_data_cleaned.csv')\n",
        "rb.head()"
      ],
      "execution_count": 4,
      "outputs": [
        {
          "output_type": "execute_result",
          "data": {
            "text/html": [
              "<div>\n",
              "<style scoped>\n",
              "    .dataframe tbody tr th:only-of-type {\n",
              "        vertical-align: middle;\n",
              "    }\n",
              "\n",
              "    .dataframe tbody tr th {\n",
              "        vertical-align: top;\n",
              "    }\n",
              "\n",
              "    .dataframe thead th {\n",
              "        text-align: right;\n",
              "    }\n",
              "</style>\n",
              "<table border=\"1\" class=\"dataframe\">\n",
              "  <thead>\n",
              "    <tr style=\"text-align: right;\">\n",
              "      <th></th>\n",
              "      <th>Unnamed: 0</th>\n",
              "      <th>Species</th>\n",
              "      <th>Owner</th>\n",
              "      <th>Country.of.Origin</th>\n",
              "      <th>Farm.Name</th>\n",
              "      <th>Lot.Number</th>\n",
              "      <th>Mill</th>\n",
              "      <th>ICO.Number</th>\n",
              "      <th>Company</th>\n",
              "      <th>Altitude</th>\n",
              "      <th>Region</th>\n",
              "      <th>Producer</th>\n",
              "      <th>Number.of.Bags</th>\n",
              "      <th>Bag.Weight</th>\n",
              "      <th>In.Country.Partner</th>\n",
              "      <th>Harvest.Year</th>\n",
              "      <th>Grading.Date</th>\n",
              "      <th>Owner.1</th>\n",
              "      <th>Variety</th>\n",
              "      <th>Processing.Method</th>\n",
              "      <th>Fragrance...Aroma</th>\n",
              "      <th>Flavor</th>\n",
              "      <th>Aftertaste</th>\n",
              "      <th>Salt...Acid</th>\n",
              "      <th>Bitter...Sweet</th>\n",
              "      <th>Mouthfeel</th>\n",
              "      <th>Uniform.Cup</th>\n",
              "      <th>Clean.Cup</th>\n",
              "      <th>Balance</th>\n",
              "      <th>Cupper.Points</th>\n",
              "      <th>Total.Cup.Points</th>\n",
              "      <th>Moisture</th>\n",
              "      <th>Category.One.Defects</th>\n",
              "      <th>Quakers</th>\n",
              "      <th>Color</th>\n",
              "      <th>Category.Two.Defects</th>\n",
              "      <th>Expiration</th>\n",
              "      <th>Certification.Body</th>\n",
              "      <th>Certification.Address</th>\n",
              "      <th>Certification.Contact</th>\n",
              "      <th>unit_of_measurement</th>\n",
              "      <th>altitude_low_meters</th>\n",
              "      <th>altitude_high_meters</th>\n",
              "      <th>altitude_mean_meters</th>\n",
              "    </tr>\n",
              "  </thead>\n",
              "  <tbody>\n",
              "    <tr>\n",
              "      <th>0</th>\n",
              "      <td>1</td>\n",
              "      <td>Robusta</td>\n",
              "      <td>ankole coffee producers coop</td>\n",
              "      <td>Uganda</td>\n",
              "      <td>kyangundu cooperative society</td>\n",
              "      <td>NaN</td>\n",
              "      <td>ankole coffee producers</td>\n",
              "      <td>0</td>\n",
              "      <td>ankole coffee producers coop</td>\n",
              "      <td>1488</td>\n",
              "      <td>sheema south western</td>\n",
              "      <td>Ankole coffee producers coop</td>\n",
              "      <td>300</td>\n",
              "      <td>60 kg</td>\n",
              "      <td>Uganda Coffee Development Authority</td>\n",
              "      <td>2013</td>\n",
              "      <td>June 26th, 2014</td>\n",
              "      <td>Ankole coffee producers coop</td>\n",
              "      <td>NaN</td>\n",
              "      <td>NaN</td>\n",
              "      <td>7.83</td>\n",
              "      <td>8.08</td>\n",
              "      <td>7.75</td>\n",
              "      <td>7.92</td>\n",
              "      <td>8.00</td>\n",
              "      <td>8.25</td>\n",
              "      <td>10.0</td>\n",
              "      <td>10.0</td>\n",
              "      <td>7.92</td>\n",
              "      <td>8.00</td>\n",
              "      <td>83.75</td>\n",
              "      <td>0.12</td>\n",
              "      <td>0</td>\n",
              "      <td>0</td>\n",
              "      <td>Green</td>\n",
              "      <td>2</td>\n",
              "      <td>June 26th, 2015</td>\n",
              "      <td>Uganda Coffee Development Authority</td>\n",
              "      <td>e36d0270932c3b657e96b7b0278dfd85dc0fe743</td>\n",
              "      <td>03077a1c6bac60e6f514691634a7f6eb5c85aae8</td>\n",
              "      <td>m</td>\n",
              "      <td>1488.0</td>\n",
              "      <td>1488.0</td>\n",
              "      <td>1488.0</td>\n",
              "    </tr>\n",
              "    <tr>\n",
              "      <th>1</th>\n",
              "      <td>2</td>\n",
              "      <td>Robusta</td>\n",
              "      <td>nishant gurjer</td>\n",
              "      <td>India</td>\n",
              "      <td>sethuraman estate kaapi royale</td>\n",
              "      <td>25</td>\n",
              "      <td>sethuraman estate</td>\n",
              "      <td>14/1148/2017/21</td>\n",
              "      <td>kaapi royale</td>\n",
              "      <td>3170</td>\n",
              "      <td>chikmagalur karnataka indua</td>\n",
              "      <td>Nishant Gurjer Kaapi Royale</td>\n",
              "      <td>320</td>\n",
              "      <td>60 kg</td>\n",
              "      <td>Specialty Coffee Association</td>\n",
              "      <td>2017</td>\n",
              "      <td>October 31st, 2017</td>\n",
              "      <td>Nishant Gurjer</td>\n",
              "      <td>NaN</td>\n",
              "      <td>Washed / Wet</td>\n",
              "      <td>8.00</td>\n",
              "      <td>7.75</td>\n",
              "      <td>7.92</td>\n",
              "      <td>8.00</td>\n",
              "      <td>8.00</td>\n",
              "      <td>7.92</td>\n",
              "      <td>10.0</td>\n",
              "      <td>10.0</td>\n",
              "      <td>7.92</td>\n",
              "      <td>8.00</td>\n",
              "      <td>83.50</td>\n",
              "      <td>0.00</td>\n",
              "      <td>0</td>\n",
              "      <td>0</td>\n",
              "      <td>NaN</td>\n",
              "      <td>2</td>\n",
              "      <td>October 31st, 2018</td>\n",
              "      <td>Specialty Coffee Association</td>\n",
              "      <td>ff7c18ad303d4b603ac3f8cff7e611ffc735e720</td>\n",
              "      <td>352d0cf7f3e9be14dad7df644ad65efc27605ae2</td>\n",
              "      <td>m</td>\n",
              "      <td>3170.0</td>\n",
              "      <td>3170.0</td>\n",
              "      <td>3170.0</td>\n",
              "    </tr>\n",
              "    <tr>\n",
              "      <th>2</th>\n",
              "      <td>3</td>\n",
              "      <td>Robusta</td>\n",
              "      <td>andrew hetzel</td>\n",
              "      <td>India</td>\n",
              "      <td>sethuraman estate</td>\n",
              "      <td>NaN</td>\n",
              "      <td>NaN</td>\n",
              "      <td>0000</td>\n",
              "      <td>sethuraman estate</td>\n",
              "      <td>1000m</td>\n",
              "      <td>chikmagalur</td>\n",
              "      <td>Nishant Gurjer</td>\n",
              "      <td>300</td>\n",
              "      <td>2 kg</td>\n",
              "      <td>Specialty Coffee Association</td>\n",
              "      <td>2015</td>\n",
              "      <td>April 30th, 2015</td>\n",
              "      <td>Andrew Hetzel</td>\n",
              "      <td>NaN</td>\n",
              "      <td>NaN</td>\n",
              "      <td>7.92</td>\n",
              "      <td>7.83</td>\n",
              "      <td>7.92</td>\n",
              "      <td>8.00</td>\n",
              "      <td>7.83</td>\n",
              "      <td>7.83</td>\n",
              "      <td>10.0</td>\n",
              "      <td>10.0</td>\n",
              "      <td>7.92</td>\n",
              "      <td>8.00</td>\n",
              "      <td>83.25</td>\n",
              "      <td>0.00</td>\n",
              "      <td>0</td>\n",
              "      <td>0</td>\n",
              "      <td>Green</td>\n",
              "      <td>0</td>\n",
              "      <td>April 29th, 2016</td>\n",
              "      <td>Specialty Coffee Association</td>\n",
              "      <td>ff7c18ad303d4b603ac3f8cff7e611ffc735e720</td>\n",
              "      <td>352d0cf7f3e9be14dad7df644ad65efc27605ae2</td>\n",
              "      <td>m</td>\n",
              "      <td>1000.0</td>\n",
              "      <td>1000.0</td>\n",
              "      <td>1000.0</td>\n",
              "    </tr>\n",
              "    <tr>\n",
              "      <th>3</th>\n",
              "      <td>4</td>\n",
              "      <td>Robusta</td>\n",
              "      <td>ugacof</td>\n",
              "      <td>Uganda</td>\n",
              "      <td>ugacof project area</td>\n",
              "      <td>NaN</td>\n",
              "      <td>ugacof</td>\n",
              "      <td>0</td>\n",
              "      <td>ugacof ltd</td>\n",
              "      <td>1212</td>\n",
              "      <td>central</td>\n",
              "      <td>UGACOF</td>\n",
              "      <td>320</td>\n",
              "      <td>60 kg</td>\n",
              "      <td>Uganda Coffee Development Authority</td>\n",
              "      <td>2013</td>\n",
              "      <td>July 14th, 2014</td>\n",
              "      <td>UGACOF</td>\n",
              "      <td>NaN</td>\n",
              "      <td>NaN</td>\n",
              "      <td>8.00</td>\n",
              "      <td>7.92</td>\n",
              "      <td>7.92</td>\n",
              "      <td>7.75</td>\n",
              "      <td>7.75</td>\n",
              "      <td>7.83</td>\n",
              "      <td>10.0</td>\n",
              "      <td>10.0</td>\n",
              "      <td>7.75</td>\n",
              "      <td>8.08</td>\n",
              "      <td>83.00</td>\n",
              "      <td>0.12</td>\n",
              "      <td>0</td>\n",
              "      <td>0</td>\n",
              "      <td>Green</td>\n",
              "      <td>7</td>\n",
              "      <td>July 14th, 2015</td>\n",
              "      <td>Uganda Coffee Development Authority</td>\n",
              "      <td>e36d0270932c3b657e96b7b0278dfd85dc0fe743</td>\n",
              "      <td>03077a1c6bac60e6f514691634a7f6eb5c85aae8</td>\n",
              "      <td>m</td>\n",
              "      <td>1212.0</td>\n",
              "      <td>1212.0</td>\n",
              "      <td>1212.0</td>\n",
              "    </tr>\n",
              "    <tr>\n",
              "      <th>4</th>\n",
              "      <td>5</td>\n",
              "      <td>Robusta</td>\n",
              "      <td>katuka development trust ltd</td>\n",
              "      <td>Uganda</td>\n",
              "      <td>katikamu capca farmers association</td>\n",
              "      <td>NaN</td>\n",
              "      <td>katuka development trust</td>\n",
              "      <td>0</td>\n",
              "      <td>katuka development trust ltd</td>\n",
              "      <td>1200-1300</td>\n",
              "      <td>luwero central region</td>\n",
              "      <td>Katuka Development Trust Ltd</td>\n",
              "      <td>1</td>\n",
              "      <td>60 kg</td>\n",
              "      <td>Uganda Coffee Development Authority</td>\n",
              "      <td>2013</td>\n",
              "      <td>June 26th, 2014</td>\n",
              "      <td>Katuka Development Trust Ltd</td>\n",
              "      <td>NaN</td>\n",
              "      <td>NaN</td>\n",
              "      <td>8.33</td>\n",
              "      <td>7.83</td>\n",
              "      <td>7.83</td>\n",
              "      <td>7.75</td>\n",
              "      <td>7.58</td>\n",
              "      <td>8.25</td>\n",
              "      <td>10.0</td>\n",
              "      <td>10.0</td>\n",
              "      <td>7.75</td>\n",
              "      <td>7.67</td>\n",
              "      <td>83.00</td>\n",
              "      <td>0.12</td>\n",
              "      <td>0</td>\n",
              "      <td>0</td>\n",
              "      <td>Green</td>\n",
              "      <td>3</td>\n",
              "      <td>June 26th, 2015</td>\n",
              "      <td>Uganda Coffee Development Authority</td>\n",
              "      <td>e36d0270932c3b657e96b7b0278dfd85dc0fe743</td>\n",
              "      <td>03077a1c6bac60e6f514691634a7f6eb5c85aae8</td>\n",
              "      <td>m</td>\n",
              "      <td>1200.0</td>\n",
              "      <td>1300.0</td>\n",
              "      <td>1250.0</td>\n",
              "    </tr>\n",
              "  </tbody>\n",
              "</table>\n",
              "</div>"
            ],
            "text/plain": [
              "   Unnamed: 0  Species  ... altitude_high_meters altitude_mean_meters\n",
              "0           1  Robusta  ...               1488.0               1488.0\n",
              "1           2  Robusta  ...               3170.0               3170.0\n",
              "2           3  Robusta  ...               1000.0               1000.0\n",
              "3           4  Robusta  ...               1212.0               1212.0\n",
              "4           5  Robusta  ...               1300.0               1250.0\n",
              "\n",
              "[5 rows x 44 columns]"
            ]
          },
          "metadata": {
            "tags": []
          },
          "execution_count": 4
        }
      ]
    },
    {
      "cell_type": "code",
      "metadata": {
        "id": "DjFgqyjoRng2",
        "colab_type": "code",
        "colab": {
          "base_uri": "https://localhost:8080/",
          "height": 233
        },
        "outputId": "0ddcbc22-9250-4307-f07f-08fb7c79da31"
      },
      "source": [
        "# analysing data columns\n",
        "rb.columns"
      ],
      "execution_count": 5,
      "outputs": [
        {
          "output_type": "execute_result",
          "data": {
            "text/plain": [
              "Index(['Unnamed: 0', 'Species', 'Owner', 'Country.of.Origin', 'Farm.Name',\n",
              "       'Lot.Number', 'Mill', 'ICO.Number', 'Company', 'Altitude', 'Region',\n",
              "       'Producer', 'Number.of.Bags', 'Bag.Weight', 'In.Country.Partner',\n",
              "       'Harvest.Year', 'Grading.Date', 'Owner.1', 'Variety',\n",
              "       'Processing.Method', 'Fragrance...Aroma', 'Flavor', 'Aftertaste',\n",
              "       'Salt...Acid', 'Bitter...Sweet', 'Mouthfeel', 'Uniform.Cup',\n",
              "       'Clean.Cup', 'Balance', 'Cupper.Points', 'Total.Cup.Points', 'Moisture',\n",
              "       'Category.One.Defects', 'Quakers', 'Color', 'Category.Two.Defects',\n",
              "       'Expiration', 'Certification.Body', 'Certification.Address',\n",
              "       'Certification.Contact', 'unit_of_measurement', 'altitude_low_meters',\n",
              "       'altitude_high_meters', 'altitude_mean_meters'],\n",
              "      dtype='object')"
            ]
          },
          "metadata": {
            "tags": []
          },
          "execution_count": 5
        }
      ]
    },
    {
      "cell_type": "code",
      "metadata": {
        "id": "e-Z-jVq6R3Fh",
        "colab_type": "code",
        "colab": {}
      },
      "source": [
        "# selecting columns that really matter for the analysis\n",
        "df_rb = rb[['Country.of.Origin', 'Fragrance...Aroma', 'Flavor', 'Aftertaste',\n",
        "       'Salt...Acid', 'Bitter...Sweet', 'Mouthfeel', 'Uniform.Cup',\n",
        "       'Clean.Cup', 'Balance', 'Cupper.Points', 'Total.Cup.Points', 'Moisture', 'Color']].copy()"
      ],
      "execution_count": 0,
      "outputs": []
    },
    {
      "cell_type": "code",
      "metadata": {
        "id": "fcoLgewwSURV",
        "colab_type": "code",
        "colab": {}
      },
      "source": [
        "# ordering Robusta grades according to their countries \n",
        "countries_rb = list(df_rb.groupby('Country.of.Origin').size().sort_values(ascending = False).index)\n",
        "ind_rb= df_rb['Country.of.Origin'].apply(lambda x: x in countries_rb)"
      ],
      "execution_count": 0,
      "outputs": []
    },
    {
      "cell_type": "code",
      "metadata": {
        "id": "xOSbie77SiDf",
        "colab_type": "code",
        "colab": {
          "base_uri": "https://localhost:8080/",
          "height": 224
        },
        "outputId": "525dbb01-d412-47cf-c9b3-245164305a6c"
      },
      "source": [
        "df_rb.head()"
      ],
      "execution_count": 13,
      "outputs": [
        {
          "output_type": "execute_result",
          "data": {
            "text/html": [
              "<div>\n",
              "<style scoped>\n",
              "    .dataframe tbody tr th:only-of-type {\n",
              "        vertical-align: middle;\n",
              "    }\n",
              "\n",
              "    .dataframe tbody tr th {\n",
              "        vertical-align: top;\n",
              "    }\n",
              "\n",
              "    .dataframe thead th {\n",
              "        text-align: right;\n",
              "    }\n",
              "</style>\n",
              "<table border=\"1\" class=\"dataframe\">\n",
              "  <thead>\n",
              "    <tr style=\"text-align: right;\">\n",
              "      <th></th>\n",
              "      <th>Country.of.Origin</th>\n",
              "      <th>Fragrance...Aroma</th>\n",
              "      <th>Flavor</th>\n",
              "      <th>Aftertaste</th>\n",
              "      <th>Salt...Acid</th>\n",
              "      <th>Bitter...Sweet</th>\n",
              "      <th>Mouthfeel</th>\n",
              "      <th>Uniform.Cup</th>\n",
              "      <th>Clean.Cup</th>\n",
              "      <th>Balance</th>\n",
              "      <th>Cupper.Points</th>\n",
              "      <th>Total.Cup.Points</th>\n",
              "      <th>Moisture</th>\n",
              "      <th>Color</th>\n",
              "    </tr>\n",
              "  </thead>\n",
              "  <tbody>\n",
              "    <tr>\n",
              "      <th>0</th>\n",
              "      <td>Uganda</td>\n",
              "      <td>7.83</td>\n",
              "      <td>8.08</td>\n",
              "      <td>7.75</td>\n",
              "      <td>7.92</td>\n",
              "      <td>8.00</td>\n",
              "      <td>8.25</td>\n",
              "      <td>10.0</td>\n",
              "      <td>10.0</td>\n",
              "      <td>7.92</td>\n",
              "      <td>8.00</td>\n",
              "      <td>83.75</td>\n",
              "      <td>0.12</td>\n",
              "      <td>Green</td>\n",
              "    </tr>\n",
              "    <tr>\n",
              "      <th>1</th>\n",
              "      <td>India</td>\n",
              "      <td>8.00</td>\n",
              "      <td>7.75</td>\n",
              "      <td>7.92</td>\n",
              "      <td>8.00</td>\n",
              "      <td>8.00</td>\n",
              "      <td>7.92</td>\n",
              "      <td>10.0</td>\n",
              "      <td>10.0</td>\n",
              "      <td>7.92</td>\n",
              "      <td>8.00</td>\n",
              "      <td>83.50</td>\n",
              "      <td>0.00</td>\n",
              "      <td>NaN</td>\n",
              "    </tr>\n",
              "    <tr>\n",
              "      <th>2</th>\n",
              "      <td>India</td>\n",
              "      <td>7.92</td>\n",
              "      <td>7.83</td>\n",
              "      <td>7.92</td>\n",
              "      <td>8.00</td>\n",
              "      <td>7.83</td>\n",
              "      <td>7.83</td>\n",
              "      <td>10.0</td>\n",
              "      <td>10.0</td>\n",
              "      <td>7.92</td>\n",
              "      <td>8.00</td>\n",
              "      <td>83.25</td>\n",
              "      <td>0.00</td>\n",
              "      <td>Green</td>\n",
              "    </tr>\n",
              "    <tr>\n",
              "      <th>3</th>\n",
              "      <td>Uganda</td>\n",
              "      <td>8.00</td>\n",
              "      <td>7.92</td>\n",
              "      <td>7.92</td>\n",
              "      <td>7.75</td>\n",
              "      <td>7.75</td>\n",
              "      <td>7.83</td>\n",
              "      <td>10.0</td>\n",
              "      <td>10.0</td>\n",
              "      <td>7.75</td>\n",
              "      <td>8.08</td>\n",
              "      <td>83.00</td>\n",
              "      <td>0.12</td>\n",
              "      <td>Green</td>\n",
              "    </tr>\n",
              "    <tr>\n",
              "      <th>4</th>\n",
              "      <td>Uganda</td>\n",
              "      <td>8.33</td>\n",
              "      <td>7.83</td>\n",
              "      <td>7.83</td>\n",
              "      <td>7.75</td>\n",
              "      <td>7.58</td>\n",
              "      <td>8.25</td>\n",
              "      <td>10.0</td>\n",
              "      <td>10.0</td>\n",
              "      <td>7.75</td>\n",
              "      <td>7.67</td>\n",
              "      <td>83.00</td>\n",
              "      <td>0.12</td>\n",
              "      <td>Green</td>\n",
              "    </tr>\n",
              "  </tbody>\n",
              "</table>\n",
              "</div>"
            ],
            "text/plain": [
              "  Country.of.Origin  Fragrance...Aroma  ...  Moisture  Color\n",
              "0            Uganda               7.83  ...      0.12  Green\n",
              "1             India               8.00  ...      0.00    NaN\n",
              "2             India               7.92  ...      0.00  Green\n",
              "3            Uganda               8.00  ...      0.12  Green\n",
              "4            Uganda               8.33  ...      0.12  Green\n",
              "\n",
              "[5 rows x 14 columns]"
            ]
          },
          "metadata": {
            "tags": []
          },
          "execution_count": 13
        }
      ]
    },
    {
      "cell_type": "code",
      "metadata": {
        "id": "4KuYBi-ySrQe",
        "colab_type": "code",
        "colab": {
          "base_uri": "https://localhost:8080/",
          "height": 143
        },
        "outputId": "8b42f709-295a-4c1a-b018-0ec6e29df084"
      },
      "source": [
        "# ordering final grade\n",
        "df_rb[ind_rb].groupby('Country.of.Origin')['Total.Cup.Points'].median().sort_values(ascending = False)"
      ],
      "execution_count": 14,
      "outputs": [
        {
          "output_type": "execute_result",
          "data": {
            "text/plain": [
              "Country.of.Origin\n",
              "Uganda           81.625\n",
              "India            81.580\n",
              "Ecuador          78.415\n",
              "United States    78.250\n",
              "Vietnam          73.750\n",
              "Name: Total.Cup.Points, dtype: float64"
            ]
          },
          "metadata": {
            "tags": []
          },
          "execution_count": 14
        }
      ]
    },
    {
      "cell_type": "code",
      "metadata": {
        "id": "z-X5djjZTlDU",
        "colab_type": "code",
        "colab": {
          "base_uri": "https://localhost:8080/",
          "height": 143
        },
        "outputId": "90b2f3a9-2859-4959-c0b5-ee698cb36340"
      },
      "source": [
        "# ordering Aroma\n",
        "df_rb[ind_rb].groupby('Country.of.Origin')['Fragrance...Aroma'].median().sort_values(ascending = False)"
      ],
      "execution_count": 16,
      "outputs": [
        {
          "output_type": "execute_result",
          "data": {
            "text/plain": [
              "Country.of.Origin\n",
              "Uganda           7.830\n",
              "India            7.670\n",
              "United States    7.625\n",
              "Ecuador          7.625\n",
              "Vietnam          6.750\n",
              "Name: Fragrance...Aroma, dtype: float64"
            ]
          },
          "metadata": {
            "tags": []
          },
          "execution_count": 16
        }
      ]
    },
    {
      "cell_type": "code",
      "metadata": {
        "id": "E37BHfhcT5JY",
        "colab_type": "code",
        "colab": {
          "base_uri": "https://localhost:8080/",
          "height": 143
        },
        "outputId": "1c87879c-4889-49b2-ef1a-c513fc20e9b0"
      },
      "source": [
        "# ordering Flavor\n",
        "df_rb[ind_rb].groupby('Country.of.Origin')['Flavor'].median().sort_values(ascending = False)"
      ],
      "execution_count": 17,
      "outputs": [
        {
          "output_type": "execute_result",
          "data": {
            "text/plain": [
              "Country.of.Origin\n",
              "Uganda           7.790\n",
              "India            7.750\n",
              "Ecuador          7.625\n",
              "United States    7.415\n",
              "Vietnam          6.670\n",
              "Name: Flavor, dtype: float64"
            ]
          },
          "metadata": {
            "tags": []
          },
          "execution_count": 17
        }
      ]
    },
    {
      "cell_type": "code",
      "metadata": {
        "id": "Vvr0jYLcUBpD",
        "colab_type": "code",
        "colab": {
          "base_uri": "https://localhost:8080/",
          "height": 143
        },
        "outputId": "b91dc6a9-05d6-40e9-84b1-6d55d5fcff0b"
      },
      "source": [
        "# ordering Aftertaste\n",
        "df_rb[ind_rb].groupby('Country.of.Origin')['Aftertaste'].median().sort_values(ascending = False)"
      ],
      "execution_count": 18,
      "outputs": [
        {
          "output_type": "execute_result",
          "data": {
            "text/plain": [
              "Country.of.Origin\n",
              "Uganda           7.750\n",
              "India            7.670\n",
              "Ecuador          7.540\n",
              "United States    7.295\n",
              "Vietnam          6.500\n",
              "Name: Aftertaste, dtype: float64"
            ]
          },
          "metadata": {
            "tags": []
          },
          "execution_count": 18
        }
      ]
    },
    {
      "cell_type": "code",
      "metadata": {
        "id": "68WuYitcUKZW",
        "colab_type": "code",
        "colab": {
          "base_uri": "https://localhost:8080/",
          "height": 143
        },
        "outputId": "8dd1a6dd-80e9-4ad2-d6fd-1afc7e946b49"
      },
      "source": [
        "# ordering Salt...Acid\n",
        "df_rb[ind_rb].groupby('Country.of.Origin')['Salt...Acid'].median().sort_values(ascending = False)"
      ],
      "execution_count": 19,
      "outputs": [
        {
          "output_type": "execute_result",
          "data": {
            "text/plain": [
              "Country.of.Origin\n",
              "India            7.830\n",
              "Uganda           7.750\n",
              "Ecuador          7.665\n",
              "United States    7.420\n",
              "Vietnam          6.830\n",
              "Name: Salt...Acid, dtype: float64"
            ]
          },
          "metadata": {
            "tags": []
          },
          "execution_count": 19
        }
      ]
    },
    {
      "cell_type": "code",
      "metadata": {
        "id": "I-DN-D8bUQNW",
        "colab_type": "code",
        "colab": {
          "base_uri": "https://localhost:8080/",
          "height": 143
        },
        "outputId": "8caab329-24d4-4902-9338-3d96042f055c"
      },
      "source": [
        "# ordering Bitter...Sweet\n",
        "df_rb[ind_rb].groupby('Country.of.Origin')['Bitter...Sweet'].median().sort_values(ascending = False)"
      ],
      "execution_count": 24,
      "outputs": [
        {
          "output_type": "execute_result",
          "data": {
            "text/plain": [
              "Country.of.Origin\n",
              "Ecuador          8.085\n",
              "India            7.750\n",
              "Uganda           7.710\n",
              "United States    7.500\n",
              "Vietnam          6.670\n",
              "Name: Bitter...Sweet, dtype: float64"
            ]
          },
          "metadata": {
            "tags": []
          },
          "execution_count": 24
        }
      ]
    },
    {
      "cell_type": "code",
      "metadata": {
        "id": "yCR4xixdUTse",
        "colab_type": "code",
        "colab": {
          "base_uri": "https://localhost:8080/",
          "height": 143
        },
        "outputId": "697ec0bf-b939-4b57-cf66-278aa35c4804"
      },
      "source": [
        "# ordering Mouthfeel\n",
        "df_rb[ind_rb].groupby('Country.of.Origin')['Mouthfeel'].median().sort_values(ascending = False)"
      ],
      "execution_count": 23,
      "outputs": [
        {
          "output_type": "execute_result",
          "data": {
            "text/plain": [
              "Country.of.Origin\n",
              "India            7.750\n",
              "Uganda           7.710\n",
              "United States    7.460\n",
              "Vietnam          6.920\n",
              "Ecuador          5.125\n",
              "Name: Mouthfeel, dtype: float64"
            ]
          },
          "metadata": {
            "tags": []
          },
          "execution_count": 23
        }
      ]
    },
    {
      "cell_type": "code",
      "metadata": {
        "id": "6uGUxc1jUhb0",
        "colab_type": "code",
        "colab": {
          "base_uri": "https://localhost:8080/",
          "height": 143
        },
        "outputId": "55f7ee60-a257-41a8-c7c4-c3e66b31bf86"
      },
      "source": [
        "# ordering Balance\n",
        "df_rb[ind_rb].groupby('Country.of.Origin')['Balance'].median().sort_values(ascending = False)"
      ],
      "execution_count": 25,
      "outputs": [
        {
          "output_type": "execute_result",
          "data": {
            "text/plain": [
              "Country.of.Origin\n",
              "India            7.750\n",
              "Uganda           7.670\n",
              "United States    7.295\n",
              "Vietnam          6.830\n",
              "Ecuador          6.540\n",
              "Name: Balance, dtype: float64"
            ]
          },
          "metadata": {
            "tags": []
          },
          "execution_count": 25
        }
      ]
    },
    {
      "cell_type": "code",
      "metadata": {
        "id": "B0hYhElOUn7Z",
        "colab_type": "code",
        "colab": {}
      },
      "source": [
        "# separating essential characteristics in an array\n",
        "characteristics_rb = np.array(['Bitter...Sweet', 'Mouthfeel','Aftertaste','Salt...Acid', 'Balance',\n",
        "   'Flavor', 'Fragrance...Aroma'])\n",
        "stats_rb=df_rb.loc[5, characteristics_rb].values"
      ],
      "execution_count": 0,
      "outputs": []
    },
    {
      "cell_type": "code",
      "metadata": {
        "id": "POLtB51TVIvP",
        "colab_type": "code",
        "colab": {}
      },
      "source": [
        "# setting graph angles\n",
        "angles=np.linspace(0, 2*np.pi, len(characteristics_rb), endpoint=False)\n",
        "\n",
        "# close the plot\n",
        "stats=np.concatenate((stats,[stats[0]]))\n",
        "angles=np.concatenate((angles,[angles[0]]))"
      ],
      "execution_count": 0,
      "outputs": []
    },
    {
      "cell_type": "code",
      "metadata": {
        "id": "JXANlvPPVZCl",
        "colab_type": "code",
        "colab": {
          "base_uri": "https://localhost:8080/",
          "height": 512
        },
        "outputId": "c5309685-1968-45b6-bd93-ed3e4f9d84b2"
      },
      "source": [
        "# plotting aka chart with matplotlib\n",
        "fig=plt.figure(figsize=(8,8))\n",
        "ax = fig.add_subplot(1,1,1, polar=True)\n",
        "ax.plot(angles, stats, 'o', linewidth=2, linestyle='solid')\n",
        "ax.fill(angles, stats,'b', alpha=0.1)\n",
        "ax.set_thetagrids(angles * 180/np.pi, characteristics_rb)\n",
        "ax.set_title([df_rb.loc[5,\"Country.of.Origin\"]], y=1, fontdict={'fontsize': 18})\n",
        "\n",
        "ax.grid(True)"
      ],
      "execution_count": 33,
      "outputs": [
        {
          "output_type": "display_data",
          "data": {
            "image/png": "[encoded data removed]",
            "text/plain": [
              "<Figure size 576x576 with 1 Axes>"
            ]
          },
          "metadata": {
            "tags": [],
            "needs_background": "light"
          }
        }
      ]
    }
  ]
}